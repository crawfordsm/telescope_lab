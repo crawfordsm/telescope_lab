{
 "cells": [
  {
   "cell_type": "markdown",
   "metadata": {},
   "source": [
    "# Detector Setup and Observations"
   ]
  },
  {
   "cell_type": "markdown",
   "metadata": {},
   "source": [
    "The goal of this tutorial is to setup the SBIG-6 CCD detector on the telescope.   This tutorial is split into five parts:  setup, connecting, calibrations, observations, and analysis.   By the end of the tutorial, you will be familiar with the SBIG camera, how it operates, and how to use it.  During these observations, we will characterize the pixel scale of the detector/telescope system by observing several pairs of binary stars and make observations of an open cluster to perform photometric analysis on it in the next tutorial.\n",
    "\n",
    " "
   ]
  },
  {
   "cell_type": "markdown",
   "metadata": {},
   "source": [
    "Binary stars are all stars with known separation, which we will use to calculate the pixel scale for the system.  The pixel scale is the conversion between on-sky separation of two objects and their separtion as they appear in an image.   It is typically given in terms of arcsec/pixel.  "
   ]
  },
  {
   "cell_type": "markdown",
   "metadata": {},
   "source": [
    "The following command will display a list of binary stars in a separate browser window:"
   ]
  },
  {
   "cell_type": "code",
   "execution_count": 17,
   "metadata": {
    "collapsed": false
   },
   "outputs": [],
   "source": [
    "from astropy.table import Table\n",
    "stars = Table.read('binarystars.csv')\n",
    "stars.show_in_browser(jsviewer=True)  "
   ]
  },
  {
   "cell_type": "markdown",
   "metadata": {},
   "source": [
    "Here is a list of [open clusters](http://messier.seds.org/open.html).  We suggest selecting M6 during the winter months, [M41](http://messier.seds.org/m/m041.html) during the early summer, and [M67](http://messier.seds.org/m/m067.html) during the late summer months. "
   ]
  },
  {
   "cell_type": "markdown",
   "metadata": {},
   "source": [
    "If you are *only* doing the binary star portion of this tutorial, the observations of the open cluster and the second observation of the binary stars can be skipped."
   ]
  },
  {
   "cell_type": "markdown",
   "metadata": {},
   "source": [
    "## I. Setup"
   ]
  },
  {
   "cell_type": "markdown",
   "metadata": {},
   "source": [
    "Prior to going to the observatory, there are a few things that will be required in order to successfully complete the tutorial.   Please review the [manual](https://www.sbig.com/site/assets/files/18228/st-l_operating_manual.pdf) for the camera prior to using it."
   ]
  },
  {
   "cell_type": "markdown",
   "metadata": {},
   "source": [
    "### Detector Setup\n",
    "\n",
    "Steps required to check while still in the lab:\n",
    "\n",
    "1. Attach the 2” nosepiece or other adapter to secure the camera to your telescope\n",
    "2. Install filters if needed.\n",
    "3. Install software on the computer(s) that you will use to control the camera.\n",
    "\n",
    "If the filters are already installed, please make sure you have the list of filter associated with each position."
   ]
  },
  {
   "cell_type": "markdown",
   "metadata": {},
   "source": [
    "### Obsreving Setup"
   ]
  },
  {
   "cell_type": "markdown",
   "metadata": {},
   "source": [
    "Plan your observing run prior to your trip to the telescope.\n",
    "1. Select 5 binary stars to observe from the list.  These should all have good visibility from when you want to observe.\n",
    "2. Select the open cluster that you will observe.  This should have good visibility from when you want to observe.\n",
    "3. Create a finding chart for each of your objects.\n",
    "\n",
    "On the 14 in telescope, the detector has roughly a 18'x13' field of view.  So your finding charts should be approxiamtely that size.  In a 10 second exposure, the finding chart should have \n",
    "\n"
   ]
  },
  {
   "cell_type": "markdown",
   "metadata": {},
   "source": [
    "### Analysis Software Setup"
   ]
  },
  {
   "cell_type": "markdown",
   "metadata": {},
   "source": [
    "If you want to perform the analysis while at the observatory, make sure the following software is installed on your computer:\n",
    "* ipython notebook\n",
    "- astropy\n",
    "- imexam\n",
    "* ds9 \n"
   ]
  },
  {
   "cell_type": "markdown",
   "metadata": {},
   "source": [
    "## II. Connect the Detector"
   ]
  },
  {
   "cell_type": "markdown",
   "metadata": {},
   "source": [
    "When at the telescope, these are the steps that are required to connect the detector to the telescope.  For operation of the telescope, please see the previous tutorial."
   ]
  },
  {
   "cell_type": "markdown",
   "metadata": {},
   "source": [
    "1.  Remove the cap or any eye piece currently on the telescope\n",
    "2.  Connect the detector to the telescope via the nose cap.  Tighten the screws such that the detector is securely mounted on the telescope.\n",
    "3.  Coneect the power to the detector.  Make sure the power cable will not snag as it moves around the telescope\n",
    "4.  Connect the computer to the detector. Make sure the power cable will not snag as it moves around the telescope\n",
    "5.  Open up the CCDOps program\n",
    "6.  Under Filter->'something', update the list of filter names to the correct ones in the filter wheel."
   ]
  },
  {
   "cell_type": "markdown",
   "metadata": {},
   "source": [
    "## III. Take Calibrations"
   ]
  },
  {
   "cell_type": "markdown",
   "metadata": {},
   "source": [
    "In order to process the images in the next tutorial, we will need to take several sets of calibration data.  These data correct for systematic effects in the CCD observations.  For details about these effects, see ['A User’s Guide to CCD Reductions with IRAF'](http://weft.astro.washington.edu/courses/astro480/To_CCD/UsersGuideCCDReductions.pdf) by Phil Massey.   Below we give a short description of each of the calibration images, how to take the images, and what they are correct."
   ]
  },
  {
   "cell_type": "markdown",
   "metadata": {},
   "source": [
    "If you are *only* doing the binary star portion of this tutorial, then this section can be skipped."
   ]
  },
  {
   "cell_type": "markdown",
   "metadata": {},
   "source": [
    "### Bias Frames\n",
    "\n",
    "**Description:**  Bias frames measure the amount of signal introduced by the electronics.\n",
    "\n",
    "**Process:**  Take 11 frames of zero exposure time.\n",
    "\n",
    "**Correction:**  Bias frames are first median combined into a master bias frame and then subtracted from all other images."
   ]
  },
  {
   "cell_type": "markdown",
   "metadata": {},
   "source": [
    "### Dark Frames\n",
    "\n",
    "**Description:**  Dark frames measure the amount of signal produced by the ambient heat of the CCD.\n",
    "\n",
    "**Process:**  Take 5 dark frames of 10s and 30s each.  \n",
    "\n",
    "**Correction:**  Each dark frame is median combined into a master dark frame of a certain exposure time.   Dark frames will be subtracted from our images.  Frames should only be subtracted from frames with the *same* exposure time.    If there is not a dark frame of a given exposure time, then a dark frame can be scaled by the ratio of the exposure times.   "
   ]
  },
  {
   "cell_type": "markdown",
   "metadata": {},
   "source": [
    "### Flatfield Frames\n",
    "\n",
    "**Description:**  Flatfields correct for pixel to pixel variations in the response of the CCD and can also correct for the response across the field of view of the CCD.   Flatflieds can be taken either of the sky during twilight or on a flat, white surface that is illuminated by a source with a smooth continuum.  \n",
    "\n",
    "**Process:**  For each filter used, take 5 flat fields.  The exposure time should be adjusted such that the peak counts in the image should be ~30000.   They should certainly be below the saturation rate of the image (typically 65000.)\n",
    "\n",
    "**Correction:**  Flat fields are median combined into a master flat field for each filter.  Then, flat fields are divided into each of the images with the same filter.   "
   ]
  },
  {
   "cell_type": "markdown",
   "metadata": {},
   "source": [
    "## IV.  Take Observations"
   ]
  },
  {
   "cell_type": "markdown",
   "metadata": {},
   "source": [
    "The goal of the observations is to complete two tasks:  1) measure the pixel scale of the detector and 2) produce data to measure the [HR diagram](https://en.wikipedia.org/wiki/Hertzsprung%E2%80%93Russell_diagram) for an open cluster.   \n",
    "\n",
    "To measure the pixel scale, we will observe a series of binary stars and calculate the distance in pixels between the two stars and compare that to the known distance between the stars.\n",
    "\n",
    "\n",
    "In order to measure the HR diagram (as part of the next tutorial), we will need to calibrate our observations and correct for the effect of atmospheric extinction.  In order to do this, we will repeat the observations of the binary stars and use those objects as standard stars.   By doing a second set of observations and multiple binary stars, we will be able to use the [airmass](https://en.wikipedia.org/wiki/Air_mass_(astronomy)) of different stars to calcute the correction for atmospheric extinction."
   ]
  },
  {
   "cell_type": "markdown",
   "metadata": {},
   "source": [
    "1. Observe each of the binary stars using the B and R filters.  Exposure times should be set so that the individual stars do not saturate but there is sufficient signal in both stars to be able to measure the magnitudes and centroids.   A peak brightness around 10000 should be sufficient.  \n",
    "2. Make multiple observations of the open cluster using the B and R filters.   If the telescope is not guiding, then the maximum suggested exposure time is 30s in each filter.   We suggest a total of 10 minutes of exposure time in each filter, so repeat the observations until the total exposure time is reached.   We will co-add the images during the data reduction tutorial.\n",
    "3. Repeat the observations of the binary stars.  The second set of observations will be used to perform the photometric calibration on the full data set."
   ]
  },
  {
   "cell_type": "markdown",
   "metadata": {},
   "source": [
    "## V. Analysis"
   ]
  },
  {
   "cell_type": "markdown",
   "metadata": {},
   "source": [
    "For the final part of this tutorial, we will measure the pixel scale of the system.   This will require measure the distance in pixels between the two binary stars and comparing that to the known distance between the two stars.  \n",
    "\n",
    "The pixel scale is defined as:\n",
    "$$p = \\frac{distance \\ in \\ arcsec \\ between \\ two \\ stars}{distance \\ in \\ pixels \\ between two \\ stars}$$"
   ]
  },
  {
   "cell_type": "markdown",
   "metadata": {},
   "source": [
    "Steps for mesuring the pixel scale:"
   ]
  },
  {
   "cell_type": "markdown",
   "metadata": {},
   "source": [
    " A.  First copy all of the images into the directory where you are running this notebook."
   ]
  },
  {
   "cell_type": "markdown",
   "metadata": {},
   "source": [
    " B.  Start up a ds9 instance using imexam"
   ]
  },
  {
   "cell_type": "code",
   "execution_count": 21,
   "metadata": {
    "collapsed": true
   },
   "outputs": [],
   "source": [
    "import imexam\n",
    "viewer=imexam.connect()"
   ]
  },
  {
   "cell_type": "markdown",
   "metadata": {
    "collapsed": true
   },
   "source": [
    "C. In  ds9, load an image of the binary stars by going to 'File->open' and then select an image. "
   ]
  },
  {
   "cell_type": "markdown",
   "metadata": {},
   "source": [
    "D. Start the image analysis tool using `viewer.imexam()`"
   ]
  },
  {
   "cell_type": "code",
   "execution_count": 22,
   "metadata": {
    "collapsed": false
   },
   "outputs": [
    {
     "name": "stdout",
     "output_type": "stream",
     "text": [
      "\n",
      "Press 'q' to quit\n",
      "\n",
      "2\tmake the next plot in a new window\n",
      "a\taperture sum, with radius region_size \n",
      "b\treturn the gauss fit center of the object\n",
      "c\treturn column plot\n",
      "e\treturn a contour plot in a region around the cursor\n",
      "h\treturn a histogram in the region around the cursor\n",
      "j\t1D [gaussian|moffat] line fit \n",
      "k\t1D [gaussian|moffat] column fit\n",
      "l\treturn line plot\n",
      "m\tsquare region stats, in [region_size],defayult is median\n",
      "r\treturn curve of growth plot\n",
      "s\tsave current figure to disk as [plot_name]\n",
      "w\tdisplay a surface plot around the cursor location\n",
      "x\treturn x,y,value of pixel\n",
      "y\treturn x,y,value of pixel\n",
      "\n",
      "Current image /Users/crawford/Teaching/unam_telescope_lab/detector_setup/img1.fits\n",
      "Invalid key\n",
      "pressed: b\n",
      "xc=418.795523\tyc=372.080136\n",
      "pressed: b\n",
      "xc=418.576236\tyc=372.080130\n",
      "pressed: b\n",
      "xc=554.336772\tyc=299.007590\n",
      "Invalid key\n",
      "pressed: b\n",
      "xc=634.948277\tyc=567.690482\n",
      "Invalid key\n"
     ]
    }
   ],
   "source": [
    "viewer.imexam()"
   ]
  },
  {
   "cell_type": "markdown",
   "metadata": {},
   "source": [
    "E.  Now hover the circular marker over the image and select one of the two known binary stars.   Once the marker is in position, press 'b' to produce an estimate of the centroid of the star.   Repeat with the other star.   Then press 'q' to quite the program.   "
   ]
  },
  {
   "cell_type": "markdown",
   "metadata": {},
   "source": [
    "F. Now save the x and y centroids calculated for the two stars"
   ]
  },
  {
   "cell_type": "code",
   "execution_count": 23,
   "metadata": {
    "collapsed": true
   },
   "outputs": [],
   "source": [
    "xc1=418.795523\n",
    "yc1=372.080136\n",
    "xc2=554.336772\n",
    "yc2=299.007590"
   ]
  },
  {
   "cell_type": "markdown",
   "metadata": {},
   "source": [
    "G.  Calculate the distance between the two stars"
   ]
  },
  {
   "cell_type": "code",
   "execution_count": 28,
   "metadata": {
    "collapsed": false
   },
   "outputs": [
    {
     "data": {
      "text/plain": [
       "153.98385356719098"
      ]
     },
     "execution_count": 28,
     "metadata": {},
     "output_type": "execute_result"
    }
   ],
   "source": [
    "d = ((xc1-xc2)**2+(yc1-yc2)**2)**0.5\n",
    "d"
   ]
  },
  {
   "cell_type": "markdown",
   "metadata": {},
   "source": [
    "H. Compare to the known distance of the two stars to calculate the pixel scale."
   ]
  },
  {
   "cell_type": "markdown",
   "metadata": {},
   "source": [
    "I. Repeat steps C.-H. for each of the stars in your list.   The distance only needs to be measured in one image for each binary star.   "
   ]
  },
  {
   "cell_type": "markdown",
   "metadata": {},
   "source": [
    "J. Create a numpy array with each of your measurements of the pixel scale and calculate the mean and standard deviation for the pixel scale. "
   ]
  },
  {
   "cell_type": "code",
   "execution_count": null,
   "metadata": {
    "collapsed": true
   },
   "outputs": [],
   "source": []
  }
 ],
 "metadata": {
  "kernelspec": {
   "display_name": "Python 2",
   "language": "python",
   "name": "python2"
  },
  "language_info": {
   "codemirror_mode": {
    "name": "ipython",
    "version": 2
   },
   "file_extension": ".py",
   "mimetype": "text/x-python",
   "name": "python",
   "nbconvert_exporter": "python",
   "pygments_lexer": "ipython2",
   "version": "2.7.10"
  }
 },
 "nbformat": 4,
 "nbformat_minor": 0
}
